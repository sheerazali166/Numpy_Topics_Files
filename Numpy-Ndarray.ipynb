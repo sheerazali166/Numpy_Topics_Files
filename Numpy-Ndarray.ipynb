{
 "cells": [
  {
   "cell_type": "code",
   "execution_count": 1,
   "id": "c0a212e7",
   "metadata": {},
   "outputs": [],
   "source": [
    "import numpy as np"
   ]
  },
  {
   "cell_type": "code",
   "execution_count": 2,
   "id": "bdb53c73",
   "metadata": {},
   "outputs": [],
   "source": [
    "a = np.array"
   ]
  },
  {
   "cell_type": "code",
   "execution_count": 3,
   "id": "9308036e",
   "metadata": {},
   "outputs": [
    {
     "name": "stdout",
     "output_type": "stream",
     "text": [
      "<built-in function array>\n"
     ]
    }
   ],
   "source": [
    "print(a)"
   ]
  },
  {
   "cell_type": "code",
   "execution_count": 4,
   "id": "a0b589e2",
   "metadata": {},
   "outputs": [],
   "source": [
    "import numpy"
   ]
  },
  {
   "cell_type": "code",
   "execution_count": 5,
   "id": "978d26e8",
   "metadata": {},
   "outputs": [],
   "source": [
    "a = numpy.array([1, 2, 3])"
   ]
  },
  {
   "cell_type": "code",
   "execution_count": 6,
   "id": "717b0d9b",
   "metadata": {},
   "outputs": [
    {
     "name": "stdout",
     "output_type": "stream",
     "text": [
      "[1 2 3]\n"
     ]
    }
   ],
   "source": [
    "print(a)"
   ]
  },
  {
   "cell_type": "code",
   "execution_count": 7,
   "id": "9fe25451",
   "metadata": {},
   "outputs": [
    {
     "name": "stdout",
     "output_type": "stream",
     "text": [
      "<class 'numpy.ndarray'>\n"
     ]
    }
   ],
   "source": [
    "print(type(a))"
   ]
  },
  {
   "cell_type": "code",
   "execution_count": 8,
   "id": "ad8e4597",
   "metadata": {},
   "outputs": [],
   "source": [
    "import numpy"
   ]
  },
  {
   "cell_type": "code",
   "execution_count": 9,
   "id": "9e6d7bf6",
   "metadata": {},
   "outputs": [],
   "source": [
    "a = numpy.array([[1, 2, 3], [4, 5, 6]])"
   ]
  },
  {
   "cell_type": "code",
   "execution_count": 10,
   "id": "02231ce6",
   "metadata": {},
   "outputs": [
    {
     "name": "stdout",
     "output_type": "stream",
     "text": [
      "[[1 2 3]\n",
      " [4 5 6]]\n"
     ]
    }
   ],
   "source": [
    "print(a)"
   ]
  },
  {
   "cell_type": "code",
   "execution_count": 11,
   "id": "b791fd84",
   "metadata": {},
   "outputs": [],
   "source": [
    "import numpy"
   ]
  },
  {
   "cell_type": "code",
   "execution_count": 12,
   "id": "4c0332fb",
   "metadata": {},
   "outputs": [],
   "source": [
    "a = numpy.array([1, 3, 7, 12], dtype=complex)"
   ]
  },
  {
   "cell_type": "code",
   "execution_count": 13,
   "id": "aea33e2d",
   "metadata": {},
   "outputs": [
    {
     "name": "stdout",
     "output_type": "stream",
     "text": [
      "[ 1.+0.j  3.+0.j  7.+0.j 12.+0.j]\n"
     ]
    }
   ],
   "source": [
    "print(a)"
   ]
  },
  {
   "cell_type": "code",
   "execution_count": 14,
   "id": "f65f39e8",
   "metadata": {},
   "outputs": [],
   "source": [
    "import numpy as np"
   ]
  },
  {
   "cell_type": "code",
   "execution_count": 15,
   "id": "33c3449d",
   "metadata": {},
   "outputs": [],
   "source": [
    "arr = np.array([[1, 2, 3, 12], [4, 5, 6, 13], [7, 8, 2, 15]])"
   ]
  },
  {
   "cell_type": "code",
   "execution_count": 16,
   "id": "69ac7821",
   "metadata": {},
   "outputs": [
    {
     "name": "stdout",
     "output_type": "stream",
     "text": [
      "2\n"
     ]
    }
   ],
   "source": [
    "print(arr.ndim)"
   ]
  },
  {
   "cell_type": "code",
   "execution_count": 17,
   "id": "ff216a48",
   "metadata": {},
   "outputs": [
    {
     "name": "stdout",
     "output_type": "stream",
     "text": [
      "[[ 1  2  3 12]\n",
      " [ 4  5  6 13]\n",
      " [ 7  8  2 15]]\n"
     ]
    }
   ],
   "source": [
    "print(arr)"
   ]
  },
  {
   "cell_type": "code",
   "execution_count": 18,
   "id": "ccc22295",
   "metadata": {},
   "outputs": [],
   "source": [
    "import numpy as np"
   ]
  },
  {
   "cell_type": "code",
   "execution_count": 19,
   "id": "4127c5a9",
   "metadata": {},
   "outputs": [],
   "source": [
    "a = np.array([[1, 2, 3]])"
   ]
  },
  {
   "cell_type": "code",
   "execution_count": 20,
   "id": "9ed936f4",
   "metadata": {},
   "outputs": [
    {
     "name": "stdout",
     "output_type": "stream",
     "text": [
      "Each Item Contains 4 Bytes\n"
     ]
    }
   ],
   "source": [
    "print(\"Each Item Contains\", a.itemsize, \"Bytes\")"
   ]
  },
  {
   "cell_type": "code",
   "execution_count": 21,
   "id": "b6476589",
   "metadata": {},
   "outputs": [],
   "source": [
    "import numpy as np"
   ]
  },
  {
   "cell_type": "code",
   "execution_count": 22,
   "id": "b3a7a4e2",
   "metadata": {},
   "outputs": [],
   "source": [
    "a = np.array([[1, 2, 3]])"
   ]
  },
  {
   "cell_type": "code",
   "execution_count": 24,
   "id": "a03560a5",
   "metadata": {},
   "outputs": [
    {
     "name": "stdout",
     "output_type": "stream",
     "text": [
      "Each Item is of the Type int32\n"
     ]
    }
   ],
   "source": [
    "print(\"Each Item is of the Type\", a.dtype)"
   ]
  },
  {
   "cell_type": "code",
   "execution_count": 1,
   "id": "9d08c5af",
   "metadata": {},
   "outputs": [],
   "source": [
    "import numpy as np"
   ]
  },
  {
   "cell_type": "code",
   "execution_count": 2,
   "id": "068a1c1f",
   "metadata": {},
   "outputs": [],
   "source": [
    "a = np.array([[1, 2, 3, 4, 5, 6, 7]])"
   ]
  },
  {
   "cell_type": "code",
   "execution_count": 3,
   "id": "9286981a",
   "metadata": {},
   "outputs": [
    {
     "name": "stdout",
     "output_type": "stream",
     "text": [
      "Size:  7\n"
     ]
    }
   ],
   "source": [
    "print(\"Size: \", a.size)"
   ]
  },
  {
   "cell_type": "code",
   "execution_count": 5,
   "id": "81fb5174",
   "metadata": {},
   "outputs": [
    {
     "name": "stdout",
     "output_type": "stream",
     "text": [
      "Shape:  (1, 7)\n"
     ]
    }
   ],
   "source": [
    "print(\"Shape: \", a.shape)"
   ]
  },
  {
   "cell_type": "code",
   "execution_count": 6,
   "id": "812544b9",
   "metadata": {},
   "outputs": [],
   "source": [
    "import numpy as np"
   ]
  },
  {
   "cell_type": "code",
   "execution_count": 7,
   "id": "d3f80dbf",
   "metadata": {},
   "outputs": [],
   "source": [
    "a = np.array([[1, 2], [3, 4], [5, 6]])"
   ]
  },
  {
   "cell_type": "code",
   "execution_count": 9,
   "id": "95d2eba9",
   "metadata": {},
   "outputs": [
    {
     "name": "stdout",
     "output_type": "stream",
     "text": [
      "Printing the Original Array\n"
     ]
    }
   ],
   "source": [
    "print(\"Printing the Original Array\")"
   ]
  },
  {
   "cell_type": "code",
   "execution_count": 10,
   "id": "b6836f31",
   "metadata": {},
   "outputs": [
    {
     "name": "stdout",
     "output_type": "stream",
     "text": [
      "[[1 2]\n",
      " [3 4]\n",
      " [5 6]]\n"
     ]
    }
   ],
   "source": [
    "print(a)"
   ]
  },
  {
   "cell_type": "code",
   "execution_count": 11,
   "id": "e2e0a269",
   "metadata": {},
   "outputs": [],
   "source": [
    "a = a.reshape(2, 3)"
   ]
  },
  {
   "cell_type": "code",
   "execution_count": 12,
   "id": "cc991f5b",
   "metadata": {},
   "outputs": [
    {
     "name": "stdout",
     "output_type": "stream",
     "text": [
      "printing the Reshaping the Array\n"
     ]
    }
   ],
   "source": [
    "print(\"printing the Reshaping the Array\")"
   ]
  },
  {
   "cell_type": "code",
   "execution_count": 13,
   "id": "f675b889",
   "metadata": {},
   "outputs": [
    {
     "name": "stdout",
     "output_type": "stream",
     "text": [
      "[[1 2 3]\n",
      " [4 5 6]]\n"
     ]
    }
   ],
   "source": [
    "print(a)"
   ]
  },
  {
   "cell_type": "code",
   "execution_count": 14,
   "id": "132ec7c1",
   "metadata": {},
   "outputs": [],
   "source": [
    "import numpy as np"
   ]
  },
  {
   "cell_type": "code",
   "execution_count": 15,
   "id": "24a691fd",
   "metadata": {},
   "outputs": [],
   "source": [
    "a = np.array([[1, 2], [3, 4], [5, 6]])"
   ]
  },
  {
   "cell_type": "code",
   "execution_count": 16,
   "id": "f2b6a99b",
   "metadata": {},
   "outputs": [
    {
     "name": "stdout",
     "output_type": "stream",
     "text": [
      "2\n"
     ]
    }
   ],
   "source": [
    "print(a[0, 1])"
   ]
  },
  {
   "cell_type": "code",
   "execution_count": 17,
   "id": "866f94c8",
   "metadata": {},
   "outputs": [
    {
     "name": "stdout",
     "output_type": "stream",
     "text": [
      "5\n"
     ]
    }
   ],
   "source": [
    "print(a[2, 0])"
   ]
  },
  {
   "cell_type": "code",
   "execution_count": 18,
   "id": "6dc9c867",
   "metadata": {},
   "outputs": [],
   "source": [
    "import numpy as np"
   ]
  },
  {
   "cell_type": "code",
   "execution_count": 19,
   "id": "08c68e1d",
   "metadata": {},
   "outputs": [],
   "source": [
    "#prints 10 values which are evenly spaced over the given interval 5-15\n",
    "a = np.linspace(5, 15, 10)"
   ]
  },
  {
   "cell_type": "code",
   "execution_count": 20,
   "id": "76a85c2f",
   "metadata": {},
   "outputs": [
    {
     "name": "stdout",
     "output_type": "stream",
     "text": [
      "[ 5.          6.11111111  7.22222222  8.33333333  9.44444444 10.55555556\n",
      " 11.66666667 12.77777778 13.88888889 15.        ]\n"
     ]
    }
   ],
   "source": [
    "print(a)"
   ]
  },
  {
   "cell_type": "code",
   "execution_count": 21,
   "id": "b705efbd",
   "metadata": {},
   "outputs": [],
   "source": [
    "import numpy as np"
   ]
  },
  {
   "cell_type": "code",
   "execution_count": 22,
   "id": "95feb5cb",
   "metadata": {},
   "outputs": [],
   "source": [
    "a = np.array([1, 2, 3, 10, 15, 4])"
   ]
  },
  {
   "cell_type": "code",
   "execution_count": 24,
   "id": "64e2ece4",
   "metadata": {},
   "outputs": [
    {
     "name": "stdout",
     "output_type": "stream",
     "text": [
      "The Array: [ 1  2  3 10 15  4]\n"
     ]
    }
   ],
   "source": [
    "print(\"The Array:\", a)"
   ]
  },
  {
   "cell_type": "code",
   "execution_count": 25,
   "id": "b15bd057",
   "metadata": {},
   "outputs": [
    {
     "name": "stdout",
     "output_type": "stream",
     "text": [
      "The Minimum Element: 1\n"
     ]
    }
   ],
   "source": [
    "print(\"The Minimum Element:\", a.min())"
   ]
  },
  {
   "cell_type": "code",
   "execution_count": 26,
   "id": "b9753805",
   "metadata": {},
   "outputs": [
    {
     "name": "stdout",
     "output_type": "stream",
     "text": [
      "The Maximum Element: 15\n"
     ]
    }
   ],
   "source": [
    "print(\"The Maximum Element:\", a.max())"
   ]
  },
  {
   "cell_type": "code",
   "execution_count": 28,
   "id": "0e625c74",
   "metadata": {},
   "outputs": [
    {
     "name": "stdout",
     "output_type": "stream",
     "text": [
      "the Sum of the Elements: 35\n"
     ]
    }
   ],
   "source": [
    "print(\"the Sum of the Elements:\", a.sum())"
   ]
  },
  {
   "cell_type": "code",
   "execution_count": 29,
   "id": "b347c1db",
   "metadata": {},
   "outputs": [],
   "source": [
    "import numpy as np"
   ]
  },
  {
   "cell_type": "code",
   "execution_count": 30,
   "id": "27029678",
   "metadata": {},
   "outputs": [],
   "source": [
    "a = np.array([[1, 2, 30], [10, 15, 4]])"
   ]
  },
  {
   "cell_type": "code",
   "execution_count": 31,
   "id": "b0258011",
   "metadata": {},
   "outputs": [
    {
     "name": "stdout",
     "output_type": "stream",
     "text": [
      "The Array: [[ 1  2 30]\n",
      " [10 15  4]]\n"
     ]
    }
   ],
   "source": [
    "print(\"The Array:\", a)"
   ]
  },
  {
   "cell_type": "code",
   "execution_count": 33,
   "id": "6cb8cfb6",
   "metadata": {},
   "outputs": [
    {
     "name": "stdout",
     "output_type": "stream",
     "text": [
      "The Maximum Elements of Columns: [10 15 30]\n"
     ]
    }
   ],
   "source": [
    "print(\"The Maximum Elements of Columns:\", a.max(axis = 0))"
   ]
  },
  {
   "cell_type": "code",
   "execution_count": 34,
   "id": "bf948995",
   "metadata": {},
   "outputs": [
    {
     "name": "stdout",
     "output_type": "stream",
     "text": [
      "The Minimum Element of Rows: [1 4]\n"
     ]
    }
   ],
   "source": [
    "print(\"The Minimum Element of Rows:\", a.min(axis = 1))"
   ]
  },
  {
   "cell_type": "code",
   "execution_count": 35,
   "id": "5f54b655",
   "metadata": {},
   "outputs": [
    {
     "name": "stdout",
     "output_type": "stream",
     "text": [
      "Sum of All Rows: [33 29]\n"
     ]
    }
   ],
   "source": [
    "print(\"Sum of All Rows:\", a.sum(axis = 1))"
   ]
  },
  {
   "cell_type": "code",
   "execution_count": 36,
   "id": "62a08b73",
   "metadata": {},
   "outputs": [],
   "source": [
    "import numpy as np"
   ]
  },
  {
   "cell_type": "code",
   "execution_count": 37,
   "id": "fe78a196",
   "metadata": {},
   "outputs": [],
   "source": [
    "a = np.array([[1, 2, 30], [10, 15, 4]])"
   ]
  },
  {
   "cell_type": "code",
   "execution_count": 38,
   "id": "55ecee9d",
   "metadata": {},
   "outputs": [
    {
     "name": "stdout",
     "output_type": "stream",
     "text": [
      "[[1.         1.41421356 5.47722558]\n",
      " [3.16227766 3.87298335 2.        ]]\n"
     ]
    }
   ],
   "source": [
    "print(np.sqrt(a))"
   ]
  },
  {
   "cell_type": "code",
   "execution_count": 39,
   "id": "126a83cd",
   "metadata": {},
   "outputs": [
    {
     "name": "stdout",
     "output_type": "stream",
     "text": [
      "10.044346115546242\n"
     ]
    }
   ],
   "source": [
    "print(np.std(a))"
   ]
  },
  {
   "cell_type": "code",
   "execution_count": 40,
   "id": "2b6a3336",
   "metadata": {},
   "outputs": [],
   "source": [
    "import numpy as np"
   ]
  },
  {
   "cell_type": "code",
   "execution_count": 43,
   "id": "a50c1028",
   "metadata": {},
   "outputs": [],
   "source": [
    "a = np.array([[1, 2, 30], [10, 15, 4]])"
   ]
  },
  {
   "cell_type": "code",
   "execution_count": 44,
   "id": "7476fb0b",
   "metadata": {},
   "outputs": [],
   "source": [
    "b = np.array([[1, 2, 3], [12, 19, 2]])"
   ]
  },
  {
   "cell_type": "code",
   "execution_count": 45,
   "id": "3e39764c",
   "metadata": {},
   "outputs": [
    {
     "name": "stdout",
     "output_type": "stream",
     "text": [
      "Sum of Array a and b\n",
      " [[ 2  4 33]\n",
      " [22 34  6]]\n"
     ]
    }
   ],
   "source": [
    "print(\"Sum of Array a and b\\n\", a + b)"
   ]
  },
  {
   "cell_type": "code",
   "execution_count": 46,
   "id": "326b58fe",
   "metadata": {},
   "outputs": [
    {
     "name": "stdout",
     "output_type": "stream",
     "text": [
      "Sub of Array a and b\n",
      " [[ 0  0 27]\n",
      " [-2 -4  2]]\n"
     ]
    }
   ],
   "source": [
    "print(\"Sub of Array a and b\\n\", a - b)"
   ]
  },
  {
   "cell_type": "code",
   "execution_count": 47,
   "id": "637e3d64",
   "metadata": {},
   "outputs": [
    {
     "name": "stdout",
     "output_type": "stream",
     "text": [
      "Product of Array a and b\n",
      " [[  1   4  90]\n",
      " [120 285   8]]\n"
     ]
    }
   ],
   "source": [
    "print(\"Product of Array a and b\\n\", a * b)"
   ]
  },
  {
   "cell_type": "code",
   "execution_count": 48,
   "id": "e7d5e5aa",
   "metadata": {},
   "outputs": [
    {
     "name": "stdout",
     "output_type": "stream",
     "text": [
      "Division of Array a and b\n",
      " [[ 1.          1.         10.        ]\n",
      " [ 0.83333333  0.78947368  2.        ]]\n"
     ]
    }
   ],
   "source": [
    "print(\"Division of Array a and b\\n\", a / b)"
   ]
  },
  {
   "cell_type": "code",
   "execution_count": 49,
   "id": "6cb2926c",
   "metadata": {},
   "outputs": [],
   "source": [
    "import numpy as np"
   ]
  },
  {
   "cell_type": "code",
   "execution_count": 50,
   "id": "c085b17c",
   "metadata": {},
   "outputs": [],
   "source": [
    "a = np.array([[1, 2, 30], [10, 15, 4]])"
   ]
  },
  {
   "cell_type": "code",
   "execution_count": 51,
   "id": "0b94e5cc",
   "metadata": {},
   "outputs": [],
   "source": [
    "b = np.array([[1, 2, 3], [12, 19, 29]])"
   ]
  },
  {
   "cell_type": "code",
   "execution_count": 52,
   "id": "075e0a2b",
   "metadata": {},
   "outputs": [
    {
     "name": "stdout",
     "output_type": "stream",
     "text": [
      "Array Vertically Concatented\n",
      " [[ 1  2 30]\n",
      " [10 15  4]\n",
      " [ 1  2  3]\n",
      " [12 19 29]]\n"
     ]
    }
   ],
   "source": [
    "print(\"Array Vertically Concatented\\n\", np.vstack((a, b)))"
   ]
  },
  {
   "cell_type": "code",
   "execution_count": 53,
   "id": "c6c84fe8",
   "metadata": {},
   "outputs": [
    {
     "name": "stdout",
     "output_type": "stream",
     "text": [
      "Array Horizontally Concatentend\n",
      " [[ 1  2 30  1  2  3]\n",
      " [10 15  4 12 19 29]]\n"
     ]
    }
   ],
   "source": [
    "print(\"Array Horizontally Concatentend\\n\", np.hstack((a, b)))"
   ]
  },
  {
   "cell_type": "code",
   "execution_count": null,
   "id": "fcbee038",
   "metadata": {},
   "outputs": [],
   "source": []
  }
 ],
 "metadata": {
  "kernelspec": {
   "display_name": "Python 3 (ipykernel)",
   "language": "python",
   "name": "python3"
  },
  "language_info": {
   "codemirror_mode": {
    "name": "ipython",
    "version": 3
   },
   "file_extension": ".py",
   "mimetype": "text/x-python",
   "name": "python",
   "nbconvert_exporter": "python",
   "pygments_lexer": "ipython3",
   "version": "3.9.7"
  }
 },
 "nbformat": 4,
 "nbformat_minor": 5
}
