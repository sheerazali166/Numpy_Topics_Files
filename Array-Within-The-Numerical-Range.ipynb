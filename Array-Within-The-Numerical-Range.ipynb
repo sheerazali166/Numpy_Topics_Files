{
 "cells": [
  {
   "cell_type": "code",
   "execution_count": 1,
   "id": "ccb97a58",
   "metadata": {},
   "outputs": [],
   "source": [
    "import numpy as np"
   ]
  },
  {
   "cell_type": "code",
   "execution_count": 2,
   "id": "69eaaa15",
   "metadata": {},
   "outputs": [],
   "source": [
    "arr = np.arange(0, 10, 2, float)"
   ]
  },
  {
   "cell_type": "code",
   "execution_count": 3,
   "id": "b9bd11de",
   "metadata": {},
   "outputs": [
    {
     "name": "stdout",
     "output_type": "stream",
     "text": [
      "[0. 2. 4. 6. 8.]\n"
     ]
    }
   ],
   "source": [
    "print(arr)"
   ]
  },
  {
   "cell_type": "code",
   "execution_count": 4,
   "id": "d9bd814b",
   "metadata": {},
   "outputs": [],
   "source": [
    "import numpy as np"
   ]
  },
  {
   "cell_type": "code",
   "execution_count": 5,
   "id": "593ac773",
   "metadata": {},
   "outputs": [],
   "source": [
    "arr = np.arange(10, 100, 5, int)"
   ]
  },
  {
   "cell_type": "code",
   "execution_count": 6,
   "id": "d95a9934",
   "metadata": {},
   "outputs": [
    {
     "name": "stdout",
     "output_type": "stream",
     "text": [
      "The array is over the given range is [10 15 20 25 30 35 40 45 50 55 60 65 70 75 80 85 90 95]\n"
     ]
    }
   ],
   "source": [
    "print(\"The array is over the given range is\", arr)"
   ]
  },
  {
   "cell_type": "code",
   "execution_count": 7,
   "id": "fc394e17",
   "metadata": {},
   "outputs": [],
   "source": [
    "import numpy as np"
   ]
  },
  {
   "cell_type": "code",
   "execution_count": 8,
   "id": "b39991cc",
   "metadata": {},
   "outputs": [],
   "source": [
    "arr = np.linspace(10, 20, 5)"
   ]
  },
  {
   "cell_type": "code",
   "execution_count": 10,
   "id": "86489e2e",
   "metadata": {},
   "outputs": [
    {
     "name": "stdout",
     "output_type": "stream",
     "text": [
      "The array over the given range is [10.  12.5 15.  17.5 20. ]\n"
     ]
    }
   ],
   "source": [
    "print(\"The array over the given range is\", arr)"
   ]
  },
  {
   "cell_type": "code",
   "execution_count": 11,
   "id": "5207a229",
   "metadata": {},
   "outputs": [],
   "source": [
    "import numpy as np"
   ]
  },
  {
   "cell_type": "code",
   "execution_count": 12,
   "id": "301e1fbf",
   "metadata": {},
   "outputs": [],
   "source": [
    "arr = np.linspace(10, 20, 5, endpoint=False)"
   ]
  },
  {
   "cell_type": "code",
   "execution_count": 13,
   "id": "d019c70e",
   "metadata": {},
   "outputs": [
    {
     "name": "stdout",
     "output_type": "stream",
     "text": [
      "The array over the given range is [10. 12. 14. 16. 18.]\n"
     ]
    }
   ],
   "source": [
    "print(\"The array over the given range is\", arr)"
   ]
  },
  {
   "cell_type": "code",
   "execution_count": 14,
   "id": "24066947",
   "metadata": {},
   "outputs": [],
   "source": [
    "import numpy as np"
   ]
  },
  {
   "cell_type": "code",
   "execution_count": 15,
   "id": "d929e2ec",
   "metadata": {},
   "outputs": [],
   "source": [
    "arr = np.logspace(10, 20, num=5, endpoint=True)"
   ]
  },
  {
   "cell_type": "code",
   "execution_count": 16,
   "id": "352b3a94",
   "metadata": {},
   "outputs": [
    {
     "name": "stdout",
     "output_type": "stream",
     "text": [
      "The array over the given range is [1.00000000e+10 3.16227766e+12 1.00000000e+15 3.16227766e+17\n",
      " 1.00000000e+20]\n"
     ]
    }
   ],
   "source": [
    "print(\"The array over the given range is\", arr)"
   ]
  },
  {
   "cell_type": "code",
   "execution_count": 17,
   "id": "328c25de",
   "metadata": {},
   "outputs": [],
   "source": [
    "import numpy as np"
   ]
  },
  {
   "cell_type": "code",
   "execution_count": 18,
   "id": "798ff52e",
   "metadata": {},
   "outputs": [],
   "source": [
    "arr = np.logspace(10, 20, num=5, base=2, endpoint=True)"
   ]
  },
  {
   "cell_type": "code",
   "execution_count": 19,
   "id": "02eb9e9b",
   "metadata": {},
   "outputs": [
    {
     "name": "stdout",
     "output_type": "stream",
     "text": [
      "The array over the given range is [1.02400000e+03 5.79261875e+03 3.27680000e+04 1.85363800e+05\n",
      " 1.04857600e+06]\n"
     ]
    }
   ],
   "source": [
    "print(\"The array over the given range is\", arr)"
   ]
  },
  {
   "cell_type": "code",
   "execution_count": null,
   "id": "c17018d2",
   "metadata": {},
   "outputs": [],
   "source": []
  }
 ],
 "metadata": {
  "kernelspec": {
   "display_name": "Python 3 (ipykernel)",
   "language": "python",
   "name": "python3"
  },
  "language_info": {
   "codemirror_mode": {
    "name": "ipython",
    "version": 3
   },
   "file_extension": ".py",
   "mimetype": "text/x-python",
   "name": "python",
   "nbconvert_exporter": "python",
   "pygments_lexer": "ipython3",
   "version": "3.9.7"
  }
 },
 "nbformat": 4,
 "nbformat_minor": 5
}
