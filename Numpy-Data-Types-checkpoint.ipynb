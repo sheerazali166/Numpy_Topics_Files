{
 "cells": [
  {
   "cell_type": "code",
   "execution_count": 1,
   "id": "468af9ae",
   "metadata": {},
   "outputs": [],
   "source": [
    "import numpy as np"
   ]
  },
  {
   "cell_type": "code",
   "execution_count": 2,
   "id": "589b9aaf",
   "metadata": {},
   "outputs": [],
   "source": [
    "d = np.dtype(np.int32)"
   ]
  },
  {
   "cell_type": "code",
   "execution_count": 3,
   "id": "c4c37110",
   "metadata": {},
   "outputs": [
    {
     "name": "stdout",
     "output_type": "stream",
     "text": [
      "int32\n"
     ]
    }
   ],
   "source": [
    "print(d)"
   ]
  },
  {
   "cell_type": "code",
   "execution_count": 4,
   "id": "57cc7992",
   "metadata": {},
   "outputs": [],
   "source": [
    "import numpy as np"
   ]
  },
  {
   "cell_type": "code",
   "execution_count": 12,
   "id": "f1a2dd76",
   "metadata": {},
   "outputs": [],
   "source": [
    "d = np.dtype([(\"Salary\", np.float_)])"
   ]
  },
  {
   "cell_type": "code",
   "execution_count": 13,
   "id": "42f22861",
   "metadata": {},
   "outputs": [
    {
     "name": "stdout",
     "output_type": "stream",
     "text": [
      "[('Salary', '<f8')]\n"
     ]
    }
   ],
   "source": [
    "print(d)"
   ]
  },
  {
   "cell_type": "code",
   "execution_count": 14,
   "id": "0783480e",
   "metadata": {},
   "outputs": [],
   "source": [
    "import numpy as np"
   ]
  },
  {
   "cell_type": "code",
   "execution_count": 17,
   "id": "f0f5274a",
   "metadata": {},
   "outputs": [],
   "source": [
    "d = np.dtype([(\"salary\", np.float32)])"
   ]
  },
  {
   "cell_type": "code",
   "execution_count": 18,
   "id": "03904ea2",
   "metadata": {},
   "outputs": [],
   "source": [
    "arr = np.array([(10000.50), (20000.26)], dtype = d)"
   ]
  },
  {
   "cell_type": "code",
   "execution_count": 19,
   "id": "563c15b7",
   "metadata": {},
   "outputs": [
    {
     "name": "stdout",
     "output_type": "stream",
     "text": [
      "[10000.5  20000.26]\n"
     ]
    }
   ],
   "source": [
    "print(arr[\"salary\"])"
   ]
  },
  {
   "cell_type": "code",
   "execution_count": null,
   "id": "ae6a946d",
   "metadata": {},
   "outputs": [],
   "source": []
  }
 ],
 "metadata": {
  "kernelspec": {
   "display_name": "Python 3 (ipykernel)",
   "language": "python",
   "name": "python3"
  },
  "language_info": {
   "codemirror_mode": {
    "name": "ipython",
    "version": 3
   },
   "file_extension": ".py",
   "mimetype": "text/x-python",
   "name": "python",
   "nbconvert_exporter": "python",
   "pygments_lexer": "ipython3",
   "version": "3.9.7"
  }
 },
 "nbformat": 4,
 "nbformat_minor": 5
}
