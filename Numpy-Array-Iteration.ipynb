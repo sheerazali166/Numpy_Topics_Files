{
 "cells": [
  {
   "cell_type": "code",
   "execution_count": 1,
   "id": "64354318",
   "metadata": {},
   "outputs": [],
   "source": [
    "import numpy as np"
   ]
  },
  {
   "cell_type": "code",
   "execution_count": 2,
   "id": "cbfc4a13",
   "metadata": {},
   "outputs": [],
   "source": [
    "a = np.array([[1, 2, 3, 4], [2, 4, 5, 6], [10, 20, 39, 3]])"
   ]
  },
  {
   "cell_type": "code",
   "execution_count": 3,
   "id": "35131c08",
   "metadata": {},
   "outputs": [
    {
     "name": "stdout",
     "output_type": "stream",
     "text": [
      "Printing array\n"
     ]
    }
   ],
   "source": [
    "print(\"Printing array\")"
   ]
  },
  {
   "cell_type": "code",
   "execution_count": 4,
   "id": "605dbbd9",
   "metadata": {},
   "outputs": [
    {
     "name": "stdout",
     "output_type": "stream",
     "text": [
      "[[ 1  2  3  4]\n",
      " [ 2  4  5  6]\n",
      " [10 20 39  3]]\n"
     ]
    }
   ],
   "source": [
    "print(a)"
   ]
  },
  {
   "cell_type": "code",
   "execution_count": 5,
   "id": "2289558e",
   "metadata": {},
   "outputs": [
    {
     "name": "stdout",
     "output_type": "stream",
     "text": [
      "itering over the array\n"
     ]
    }
   ],
   "source": [
    "print(\"itering over the array\")"
   ]
  },
  {
   "cell_type": "code",
   "execution_count": 6,
   "id": "a3dd2197",
   "metadata": {},
   "outputs": [
    {
     "name": "stdout",
     "output_type": "stream",
     "text": [
      "1 2 3 4 2 4 5 6 10 20 39 3 "
     ]
    }
   ],
   "source": [
    "for x in np.nditer(a):\n",
    "    print(x, end=\" \")"
   ]
  },
  {
   "cell_type": "code",
   "execution_count": 7,
   "id": "8130cf8a",
   "metadata": {},
   "outputs": [],
   "source": [
    "import numpy as np"
   ]
  },
  {
   "cell_type": "code",
   "execution_count": 15,
   "id": "ea91a48f",
   "metadata": {},
   "outputs": [],
   "source": [
    "a = np.array([[1, 2, 3, 4], [2, 4, 5, 6], [10, 20, 39, 3]])"
   ]
  },
  {
   "cell_type": "code",
   "execution_count": 16,
   "id": "11181104",
   "metadata": {},
   "outputs": [
    {
     "name": "stdout",
     "output_type": "stream",
     "text": [
      "Print the array:\n",
      "[[ 1  2  3  4]\n",
      " [ 2  4  5  6]\n",
      " [10 20 39  3]]\n"
     ]
    }
   ],
   "source": [
    "print(\"Print the array:\")\n",
    "print(a)"
   ]
  },
  {
   "cell_type": "code",
   "execution_count": 20,
   "id": "dfbd01ed",
   "metadata": {},
   "outputs": [
    {
     "name": "stdout",
     "output_type": "stream",
     "text": [
      "Printing the transport of the array\n",
      "[[ 1  2 10]\n",
      " [ 2  4 20]\n",
      " [ 3  5 39]\n",
      " [ 4  6  3]]\n",
      "itering over the array\n",
      "1\n",
      "itering over the array\n",
      "2\n",
      "itering over the array\n",
      "3\n",
      "itering over the array\n",
      "4\n",
      "itering over the array\n",
      "2\n",
      "itering over the array\n",
      "4\n",
      "itering over the array\n",
      "5\n",
      "itering over the array\n",
      "6\n",
      "itering over the array\n",
      "10\n",
      "itering over the array\n",
      "20\n",
      "itering over the array\n",
      "39\n",
      "itering over the array\n",
      "3\n",
      "1 2 3 4 2 4 5 6 10 20 39 3 "
     ]
    }
   ],
   "source": [
    "print(\"Printing the transport of the array\")\n",
    "at = a.T\n",
    "print(at)\n",
    "\n",
    "for x in np.nditer(at):\n",
    "    print(\"itering over the array\")\n",
    "    print(x)\n",
    "\n",
    "for x in np.nditer(a):\n",
    "    print(x, end=\" \")    "
   ]
  },
  {
   "cell_type": "code",
   "execution_count": 21,
   "id": "9d9e0fc7",
   "metadata": {},
   "outputs": [],
   "source": [
    "import numpy as np"
   ]
  },
  {
   "cell_type": "code",
   "execution_count": 22,
   "id": "21a9c33f",
   "metadata": {},
   "outputs": [],
   "source": [
    "a = np.array([[1, 2, 3, 4], [2, 4, 5, 6], [10, 20, 39, 3]])"
   ]
  },
  {
   "cell_type": "code",
   "execution_count": 25,
   "id": "a95a48b5",
   "metadata": {},
   "outputs": [
    {
     "name": "stdout",
     "output_type": "stream",
     "text": [
      "\n",
      "Printing the array:\n",
      "\n",
      "[[ 1  2  3  4]\n",
      " [ 2  4  5  6]\n",
      " [10 20 39  3]]\n",
      "\n",
      "Printing the transport of the array\n",
      "[[ 1  2 10]\n",
      " [ 2  4 20]\n",
      " [ 3  5 39]\n",
      " [ 4  6  3]]\n",
      "\n",
      "Iterating over the transported array\n",
      "\n",
      "1 2 3 4 2 4 5 6 10 20 39 3 \n",
      "Sorting the transported array in C-style:\n",
      "\n",
      "[[ 1  2 10]\n",
      " [ 2  4 20]\n",
      " [ 3  5 39]\n",
      " [ 4  6  3]]\n",
      "\n",
      "Iterating over the C-style array:\n",
      "\n",
      "1 2 10 2 4 20 3 5 39 4 6 3 [[ 1  2 10]\n",
      " [ 2  4 20]\n",
      " [ 3  5 39]\n",
      " [ 4  6  3]]\n",
      "Iterating over the F-style array:\n",
      "\n",
      "1 2 3 4 2 4 5 6 10 20 39 3 "
     ]
    }
   ],
   "source": [
    "print(\"\\nPrinting the array:\\n\")\n",
    "\n",
    "print(a)\n",
    "\n",
    "print(\"\\nPrinting the transport of the array\")\n",
    "\n",
    "at = a.T\n",
    "\n",
    "print(at)\n",
    "\n",
    "print(\"\\nIterating over the transported array\\n\")\n",
    "\n",
    "for x in np.nditer(at):\n",
    "    print(x, end=\" \")\n",
    "\n",
    "print(\"\\nSorting the transported array in C-style:\\n\")\n",
    "\n",
    "c = at.copy(order = \"C\")\n",
    "print(c)\n",
    "\n",
    "print(\"\\nIterating over the C-style array:\\n\")\n",
    "\n",
    "for x in np.nditer(c):\n",
    "    print(x, end=\" \")\n",
    "    \n",
    "d = at.copy(order=\"F\")\n",
    "\n",
    "print(d)\n",
    "\n",
    "print(\"Iterating over the F-style array:\\n\")\n",
    "\n",
    "for x in np.nditer(d):\n",
    "    print(x, end=\" \")"
   ]
  },
  {
   "cell_type": "code",
   "execution_count": 27,
   "id": "1ceaed2a",
   "metadata": {},
   "outputs": [],
   "source": [
    "import numpy as np"
   ]
  },
  {
   "cell_type": "code",
   "execution_count": 28,
   "id": "29c5df75",
   "metadata": {},
   "outputs": [],
   "source": [
    "a = np.array([[1, 2, 3, 4], [2, 4, 5, 6], [10, 20, 39, 3]])"
   ]
  },
  {
   "cell_type": "code",
   "execution_count": 29,
   "id": "071951ed",
   "metadata": {},
   "outputs": [
    {
     "name": "stdout",
     "output_type": "stream",
     "text": [
      "\n",
      "Printing the array:\n",
      "\n",
      "[[ 1  2  3  4]\n",
      " [ 2  4  5  6]\n",
      " [10 20 39  3]]\n",
      "\n",
      "Printing the transpose of the array:\n",
      "\n",
      "[[ 1  2 10]\n",
      " [ 2  4 20]\n",
      " [ 3  5 39]\n",
      " [ 4  6  3]]\n",
      "\n",
      "Iterating over the transposed array\n",
      "\n",
      "1 2 3 4 2 4 5 6 10 20 39 3 \n",
      "Sorting the transposed array in C-style:\n",
      "\n",
      "nIterating over the C-style array:\n",
      "\n",
      "1 2 10 2 4 20 3 5 39 4 6 3 "
     ]
    }
   ],
   "source": [
    "print(\"\\nPrinting the array:\\n\")\n",
    "\n",
    "print(a)\n",
    "\n",
    "print(\"\\nPrinting the transpose of the array:\\n\")\n",
    "\n",
    "at = a.T\n",
    "\n",
    "print(at)\n",
    "\n",
    "print(\"\\nIterating over the transposed array\\n\")\n",
    "\n",
    "for x in np.nditer(at):\n",
    "    print(x, end=\" \")\n",
    "    \n",
    "print(\"\\nSorting the transposed array in C-style:\\n\")\n",
    "\n",
    "print(\"nIterating over the C-style array:\\n\")\n",
    "\n",
    "for x in np.nditer(at, order= \"C\"):\n",
    "    print(x, end=\" \")"
   ]
  },
  {
   "cell_type": "code",
   "execution_count": 30,
   "id": "2eac7e6c",
   "metadata": {},
   "outputs": [
    {
     "name": "stdout",
     "output_type": "stream",
     "text": [
      "\n",
      "Printing the original array:\n",
      "\n",
      "[[ 1  2  3  4]\n",
      " [ 2  4  5  6]\n",
      " [10 20 39  3]]\n",
      "\n",
      "Iterating over the modified array\n",
      "\n",
      "3 6 9 12 6 12 15 18 30 60 117 9 "
     ]
    }
   ],
   "source": [
    "import numpy as np\n",
    "\n",
    "a = np.array([[1, 2, 3, 4], [2, 4, 5, 6], [10, 20, 39, 3]])\n",
    "\n",
    "print(\"\\nPrinting the original array:\\n\")\n",
    "\n",
    "print(a)\n",
    "\n",
    "print(\"\\nIterating over the modified array\\n\")\n",
    "\n",
    "for x in np.nditer(a, op_flags=[\"readwrite\"]):\n",
    "    x[...] = 3 * x\n",
    "    \n",
    "    print(x, end=\" \")"
   ]
  },
  {
   "cell_type": "code",
   "execution_count": null,
   "id": "f79a24b8",
   "metadata": {},
   "outputs": [],
   "source": []
  }
 ],
 "metadata": {
  "kernelspec": {
   "display_name": "Python 3",
   "language": "python",
   "name": "python3"
  },
  "language_info": {
   "codemirror_mode": {
    "name": "ipython",
    "version": 3
   },
   "file_extension": ".py",
   "mimetype": "text/x-python",
   "name": "python",
   "nbconvert_exporter": "python",
   "pygments_lexer": "ipython3",
   "version": "3.8.8"
  }
 },
 "nbformat": 4,
 "nbformat_minor": 5
}
