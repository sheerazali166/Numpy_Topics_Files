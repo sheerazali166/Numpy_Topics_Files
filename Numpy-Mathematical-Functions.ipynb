{
 "cells": [
  {
   "cell_type": "code",
   "execution_count": 1,
   "id": "9f01c9e6",
   "metadata": {},
   "outputs": [],
   "source": [
    "import numpy as np"
   ]
  },
  {
   "cell_type": "code",
   "execution_count": 3,
   "id": "c8eb20c2",
   "metadata": {},
   "outputs": [
    {
     "name": "stdout",
     "output_type": "stream",
     "text": [
      "\n",
      "The sin value of the angles [0.00000000e+00 5.00000000e-01 8.66025404e-01 1.00000000e+00\n",
      " 8.66025404e-01 5.00000000e-01 1.22464680e-16]\n",
      "\n",
      "The cosine value of the angles [ 1.00000000e+00  8.66025404e-01  5.00000000e-01  6.12323400e-17\n",
      " -5.00000000e-01 -8.66025404e-01 -1.00000000e+00]\n",
      "\n",
      "The tangent value of the angles [ 0.00000000e+00  5.77350269e-01  1.73205081e+00  1.63312394e+16\n",
      " -1.73205081e+00 -5.77350269e-01 -1.22464680e-16]\n"
     ]
    }
   ],
   "source": [
    "arr = np.array([0, 30, 60, 90, 120, 150, 180])\n",
    "\n",
    "print(\"\\nThe sin value of the angles\", end=\" \")\n",
    "\n",
    "print(np.sin(arr * np.pi / 180))\n",
    "\n",
    "print(\"\\nThe cosine value of the angles\", end=\" \")\n",
    "\n",
    "print(np.cos(arr * np.pi / 180))\n",
    "\n",
    "print(\"\\nThe tangent value of the angles\", end=\" \")\n",
    "\n",
    "print(np.tan(arr * np.pi / 180))"
   ]
  },
  {
   "cell_type": "code",
   "execution_count": 4,
   "id": "701348b3",
   "metadata": {},
   "outputs": [
    {
     "name": "stdout",
     "output_type": "stream",
     "text": [
      "printing the sin values of different angles\n",
      "0.01745240643728351\n",
      "printing the inverse of the sin\n",
      "0.017453292519943295\n",
      "printing the values in degrees\n",
      "1.0\n",
      "\n",
      "printing the cos values of different angles\n",
      "[1.00000000e+00 8.66025404e-01 5.00000000e-01 6.12323400e-17]\n",
      "printing the inverse of the cos\n",
      "[0.         0.52359878 1.04719755 1.57079633]\n",
      "\n",
      "printing the values in degrees\n",
      "[ 0. 30. 60. 90.]\n",
      "\n",
      "printing the tan values of different angles\n",
      "[0.00000000e+00 5.77350269e-01 1.73205081e+00 1.63312394e+16]\n",
      "printing the inverse of the tan\n",
      "[0.         0.52359878 1.04719755 1.57079633]\n",
      "\n",
      "printing the values in degrees\n",
      "[ 0. 30. 60. 90.]\n"
     ]
    }
   ],
   "source": [
    "import numpy as np\n",
    "\n",
    "arr = np.array([0, 30, 60, 90])\n",
    "\n",
    "print(\"printing the sin values of different angles\")\n",
    "\n",
    "sinval = np.sin(np.pi / 180)\n",
    "\n",
    "print(sinval)\n",
    "\n",
    "print(\"printing the inverse of the sin\")\n",
    "\n",
    "cosec = np.arcsin(sinval)\n",
    "\n",
    "print(cosec)\n",
    "\n",
    "print(\"printing the values in degrees\")\n",
    "\n",
    "print(np.degrees(cosec))\n",
    "\n",
    "print(\"\\nprinting the cos values of different angles\")\n",
    "\n",
    "cosval = np.cos(arr * np.pi / 180)\n",
    "\n",
    "print(cosval)\n",
    "\n",
    "print(\"printing the inverse of the cos\")\n",
    "\n",
    "sec = np.arccos(cosval)\n",
    "\n",
    "print(sec)\n",
    "\n",
    "print(\"\\nprinting the values in degrees\")\n",
    "\n",
    "print(np.degrees(sec))\n",
    "\n",
    "print(\"\\nprinting the tan values of different angles\")\n",
    "\n",
    "tanval = np.tan(arr * np.pi / 180)\n",
    "\n",
    "print(tanval)\n",
    "\n",
    "print(\"printing the inverse of the tan\")\n",
    "\n",
    "cot = np.arctan(tanval)\n",
    "\n",
    "print(cot)\n",
    "\n",
    "print(\"\\nprinting the values in degrees\")\n",
    "\n",
    "print(np.degrees(cot))"
   ]
  },
  {
   "cell_type": "code",
   "execution_count": 5,
   "id": "f53cf9f9",
   "metadata": {},
   "outputs": [],
   "source": [
    "import numpy as np"
   ]
  },
  {
   "cell_type": "code",
   "execution_count": 6,
   "id": "e759db9b",
   "metadata": {},
   "outputs": [
    {
     "name": "stdout",
     "output_type": "stream",
     "text": [
      "printing the original array values: [ 12.202   90.2312 123.02    23.202 ]\n",
      "Array values rounded off to 2 decimal position [ 12.2   90.23 123.02  23.2 ]\n",
      "Array values rounded off to -1 decimal position [ 10.  90. 120.  20.]\n"
     ]
    }
   ],
   "source": [
    "arr = np.array([12.202, 90.23120, 123.020, 23.202])\n",
    "\n",
    "print(\"printing the original array values:\", end=\" \")\n",
    "\n",
    "print(arr)\n",
    "\n",
    "print(\"Array values rounded off to 2 decimal position\", np.around(arr, 2))\n",
    "\n",
    "print(\"Array values rounded off to -1 decimal position\", np.around(arr, -1))"
   ]
  },
  {
   "cell_type": "code",
   "execution_count": 7,
   "id": "e6177cdc",
   "metadata": {},
   "outputs": [
    {
     "name": "stdout",
     "output_type": "stream",
     "text": [
      "[ 12.  90. 123.  23.]\n"
     ]
    }
   ],
   "source": [
    "import numpy as np\n",
    "\n",
    "arr = np.array([12.202, 90.23120, 123.020, 23.202])\n",
    "\n",
    "print(np.floor(arr))"
   ]
  },
  {
   "cell_type": "code",
   "execution_count": 8,
   "id": "6aea1eb5",
   "metadata": {},
   "outputs": [
    {
     "name": "stdout",
     "output_type": "stream",
     "text": [
      "[ 13.  91. 124.  24.]\n"
     ]
    }
   ],
   "source": [
    "import numpy as np\n",
    "\n",
    "arr = np.array([12.202, 90.23120, 123.020, 23.202])\n",
    "\n",
    "print(np.ceil(arr))"
   ]
  },
  {
   "cell_type": "code",
   "execution_count": null,
   "id": "da0bb8ac",
   "metadata": {},
   "outputs": [],
   "source": []
  }
 ],
 "metadata": {
  "kernelspec": {
   "display_name": "Python 3 (ipykernel)",
   "language": "python",
   "name": "python3"
  },
  "language_info": {
   "codemirror_mode": {
    "name": "ipython",
    "version": 3
   },
   "file_extension": ".py",
   "mimetype": "text/x-python",
   "name": "python",
   "nbconvert_exporter": "python",
   "pygments_lexer": "ipython3",
   "version": "3.9.7"
  }
 },
 "nbformat": 4,
 "nbformat_minor": 5
}
