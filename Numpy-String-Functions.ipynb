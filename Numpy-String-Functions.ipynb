{
 "cells": [
  {
   "cell_type": "code",
   "execution_count": 1,
   "id": "01b92b26",
   "metadata": {},
   "outputs": [],
   "source": [
    "import numpy as np"
   ]
  },
  {
   "cell_type": "code",
   "execution_count": 2,
   "id": "5a1303bd",
   "metadata": {},
   "outputs": [
    {
     "name": "stdout",
     "output_type": "stream",
     "text": [
      "Concatenating two string arrays:\n"
     ]
    }
   ],
   "source": [
    "print(\"Concatenating two string arrays:\")"
   ]
  },
  {
   "cell_type": "code",
   "execution_count": 3,
   "id": "f560ecd2",
   "metadata": {},
   "outputs": [
    {
     "name": "stdout",
     "output_type": "stream",
     "text": [
      "['welcometo Javatpoint' 'Hiread python']\n"
     ]
    }
   ],
   "source": [
    "print(np.char.add(['welcome','Hi'], ['to Javatpoint', 'read python']))"
   ]
  },
  {
   "cell_type": "code",
   "execution_count": 4,
   "id": "3672f06d",
   "metadata": {},
   "outputs": [],
   "source": [
    "import numpy as np"
   ]
  },
  {
   "cell_type": "code",
   "execution_count": 5,
   "id": "fd5d7d41",
   "metadata": {},
   "outputs": [
    {
     "name": "stdout",
     "output_type": "stream",
     "text": [
      "Printing a string multiple times:\n"
     ]
    }
   ],
   "source": [
    "print(\"Printing a string multiple times:\")"
   ]
  },
  {
   "cell_type": "code",
   "execution_count": 7,
   "id": "bfb5a97b",
   "metadata": {},
   "outputs": [
    {
     "name": "stdout",
     "output_type": "stream",
     "text": [
      "Hello Hello Hello \n"
     ]
    }
   ],
   "source": [
    "print(np.char.multiply(\"Hello \", 3))"
   ]
  },
  {
   "cell_type": "code",
   "execution_count": 8,
   "id": "19e204f7",
   "metadata": {},
   "outputs": [],
   "source": [
    "import numpy as np"
   ]
  },
  {
   "cell_type": "code",
   "execution_count": 9,
   "id": "13648efd",
   "metadata": {},
   "outputs": [
    {
     "name": "stdout",
     "output_type": "stream",
     "text": [
      "Padding the string through left and right with the fill char *\n"
     ]
    }
   ],
   "source": [
    "print(\"Padding the string through left and right with the fill char *\")"
   ]
  },
  {
   "cell_type": "code",
   "execution_count": 10,
   "id": "1b06f850",
   "metadata": {},
   "outputs": [
    {
     "name": "stdout",
     "output_type": "stream",
     "text": [
      "*****Javapoint******\n"
     ]
    }
   ],
   "source": [
    "#np.char.center(string, width, fillchar) \n",
    "print(np.char.center(\"Javapoint\", 20, \"*\"))"
   ]
  },
  {
   "cell_type": "code",
   "execution_count": 11,
   "id": "87d74a4e",
   "metadata": {},
   "outputs": [],
   "source": [
    "import numpy as np"
   ]
  },
  {
   "cell_type": "code",
   "execution_count": 12,
   "id": "2d0831ed",
   "metadata": {},
   "outputs": [
    {
     "name": "stdout",
     "output_type": "stream",
     "text": [
      "Converting string into title cased version..\n"
     ]
    }
   ],
   "source": [
    "print(\"Converting string into title cased version..\")"
   ]
  },
  {
   "cell_type": "code",
   "execution_count": 13,
   "id": "22c1af7d",
   "metadata": {},
   "outputs": [
    {
     "name": "stdout",
     "output_type": "stream",
     "text": [
      "Welcome To Javatpoint\n"
     ]
    }
   ],
   "source": [
    "print(np.char.title(\"welcome to javatpoint\"))"
   ]
  },
  {
   "cell_type": "code",
   "execution_count": 14,
   "id": "a9ad4ec6",
   "metadata": {},
   "outputs": [],
   "source": [
    "import numpy as np"
   ]
  },
  {
   "cell_type": "code",
   "execution_count": 15,
   "id": "8e3e0cbc",
   "metadata": {},
   "outputs": [
    {
     "name": "stdout",
     "output_type": "stream",
     "text": [
      "Converting all the characters of the string into lowercase...\n"
     ]
    }
   ],
   "source": [
    "print(\"Converting all the characters of the string into lowercase...\")"
   ]
  },
  {
   "cell_type": "code",
   "execution_count": 16,
   "id": "8efa147c",
   "metadata": {},
   "outputs": [
    {
     "name": "stdout",
     "output_type": "stream",
     "text": [
      "welcome to javatpoint\n"
     ]
    }
   ],
   "source": [
    "print(np.char.lower(\"WELCOME TO JAVATPOINT\"))"
   ]
  },
  {
   "cell_type": "code",
   "execution_count": 17,
   "id": "44014e3a",
   "metadata": {},
   "outputs": [],
   "source": [
    "import numpy as np"
   ]
  },
  {
   "cell_type": "code",
   "execution_count": 18,
   "id": "2b7aa30f",
   "metadata": {},
   "outputs": [
    {
     "name": "stdout",
     "output_type": "stream",
     "text": [
      "Converting all the characters of the string into uppercase...\n"
     ]
    }
   ],
   "source": [
    "print(\"Converting all the characters of the string into uppercase...\")"
   ]
  },
  {
   "cell_type": "code",
   "execution_count": 19,
   "id": "a1f0fb91",
   "metadata": {},
   "outputs": [
    {
     "name": "stdout",
     "output_type": "stream",
     "text": [
      "WELCOME TO JAVATPOINT\n"
     ]
    }
   ],
   "source": [
    "print(np.char.upper(\"Welcome To Javatpoint\"))"
   ]
  },
  {
   "cell_type": "code",
   "execution_count": 20,
   "id": "f95d034a",
   "metadata": {},
   "outputs": [],
   "source": [
    "import numpy as np"
   ]
  },
  {
   "cell_type": "code",
   "execution_count": 21,
   "id": "d15719fe",
   "metadata": {},
   "outputs": [
    {
     "name": "stdout",
     "output_type": "stream",
     "text": [
      "Splitting the String word by word..\n"
     ]
    }
   ],
   "source": [
    "print(\"Splitting the String word by word..\")"
   ]
  },
  {
   "cell_type": "code",
   "execution_count": 22,
   "id": "147f9089",
   "metadata": {},
   "outputs": [
    {
     "name": "stdout",
     "output_type": "stream",
     "text": [
      "['Welcome', 'To', 'Javatpoint']\n"
     ]
    }
   ],
   "source": [
    "print(np.char.split(\"Welcome To Javatpoint\"), sep=\"\")"
   ]
  },
  {
   "cell_type": "code",
   "execution_count": 23,
   "id": "79ef187f",
   "metadata": {},
   "outputs": [],
   "source": [
    "import numpy as np"
   ]
  },
  {
   "cell_type": "code",
   "execution_count": 24,
   "id": "66ccfe44",
   "metadata": {},
   "outputs": [
    {
     "name": "stdout",
     "output_type": "stream",
     "text": [
      "Splitting the String line by line..\n"
     ]
    }
   ],
   "source": [
    "print(\"Splitting the String line by line..\")"
   ]
  },
  {
   "cell_type": "code",
   "execution_count": 25,
   "id": "13500a11",
   "metadata": {},
   "outputs": [
    {
     "name": "stdout",
     "output_type": "stream",
     "text": [
      "['Welcome', 'To', 'Javatpoint']\n"
     ]
    }
   ],
   "source": [
    "print(np.char.splitlines(\"Welcome\\nTo\\nJavatpoint\"))"
   ]
  },
  {
   "cell_type": "code",
   "execution_count": 26,
   "id": "5a46edd8",
   "metadata": {},
   "outputs": [],
   "source": [
    "import numpy as np"
   ]
  },
  {
   "cell_type": "code",
   "execution_count": 27,
   "id": "23d12504",
   "metadata": {},
   "outputs": [],
   "source": [
    "str = \"     welcome to javatpoint     \" "
   ]
  },
  {
   "cell_type": "code",
   "execution_count": 28,
   "id": "50d56edc",
   "metadata": {},
   "outputs": [
    {
     "name": "stdout",
     "output_type": "stream",
     "text": [
      "Original String:      welcome to javatpoint     \n",
      "Removing the leading and trailing whitespaces from the string\n",
      "welcome to javatpoint\n"
     ]
    }
   ],
   "source": [
    "print(\"Original String:\", str)\n",
    "\n",
    "print(\"Removing the leading and trailing whitespaces from the string\")\n",
    "\n",
    "print(np.char.strip(str))"
   ]
  },
  {
   "cell_type": "code",
   "execution_count": 29,
   "id": "c10a0037",
   "metadata": {},
   "outputs": [],
   "source": [
    "import numpy as np"
   ]
  },
  {
   "cell_type": "code",
   "execution_count": 31,
   "id": "d2f4c0b6",
   "metadata": {},
   "outputs": [
    {
     "name": "stdout",
     "output_type": "stream",
     "text": [
      "H:M\n"
     ]
    }
   ],
   "source": [
    "print(np.char.join(':','HM'))"
   ]
  },
  {
   "cell_type": "code",
   "execution_count": 32,
   "id": "3d265ce3",
   "metadata": {},
   "outputs": [],
   "source": [
    "import numpy as np"
   ]
  },
  {
   "cell_type": "code",
   "execution_count": 33,
   "id": "64cf27d0",
   "metadata": {},
   "outputs": [],
   "source": [
    "str = \"Welcome to Javatpoint\" "
   ]
  },
  {
   "cell_type": "code",
   "execution_count": 34,
   "id": "bdcd2577",
   "metadata": {},
   "outputs": [
    {
     "name": "stdout",
     "output_type": "stream",
     "text": [
      "Original String Welcome to Javatpoint\n",
      "Modified String: www. Javatpoint\n"
     ]
    }
   ],
   "source": [
    "print(\"Original String\", str)\n",
    "\n",
    "print(\"Modified String:\", end=\" \")\n",
    "\n",
    "print(np.char.replace(str, \"Welcome to\",\"www.\"))"
   ]
  },
  {
   "cell_type": "code",
   "execution_count": 35,
   "id": "b39dac72",
   "metadata": {},
   "outputs": [],
   "source": [
    "import numpy as np"
   ]
  },
  {
   "cell_type": "code",
   "execution_count": 36,
   "id": "53d81051",
   "metadata": {},
   "outputs": [
    {
     "name": "stdout",
     "output_type": "stream",
     "text": [
      "b'\\xa6\\x85\\x93\\x83\\x96\\x94\\x85@\\xa3\\x96@\\x91\\x81\\xa5\\x81\\xa3\\x97\\x96\\x89\\x95\\xa3'\n",
      "welcome to javatpoint\n"
     ]
    }
   ],
   "source": [
    "enstr = np.char.encode(\"welcome to javatpoint\", 'cp500')\n",
    "\n",
    "dstr = np.char.decode(enstr ,'cp500')\n",
    "\n",
    "print(enstr)\n",
    "\n",
    "print(dstr)"
   ]
  },
  {
   "cell_type": "code",
   "execution_count": null,
   "id": "06c3ed31",
   "metadata": {},
   "outputs": [],
   "source": []
  }
 ],
 "metadata": {
  "kernelspec": {
   "display_name": "Python 3 (ipykernel)",
   "language": "python",
   "name": "python3"
  },
  "language_info": {
   "codemirror_mode": {
    "name": "ipython",
    "version": 3
   },
   "file_extension": ".py",
   "mimetype": "text/x-python",
   "name": "python",
   "nbconvert_exporter": "python",
   "pygments_lexer": "ipython3",
   "version": "3.9.7"
  }
 },
 "nbformat": 4,
 "nbformat_minor": 5
}
