{
 "cells": [
  {
   "cell_type": "code",
   "execution_count": 1,
   "id": "872d9b72",
   "metadata": {},
   "outputs": [],
   "source": [
    "import numpy as np"
   ]
  },
  {
   "cell_type": "code",
   "execution_count": 2,
   "id": "de15c34d",
   "metadata": {},
   "outputs": [],
   "source": [
    "a = 10\n",
    "b = 12"
   ]
  },
  {
   "cell_type": "code",
   "execution_count": 3,
   "id": "b241e552",
   "metadata": {},
   "outputs": [
    {
     "name": "stdout",
     "output_type": "stream",
     "text": [
      "Binary representation of a: 0b1010\n",
      "Binary representation of b: 0b1100\n",
      "Bitwise-and a and b: 8\n"
     ]
    }
   ],
   "source": [
    "print(\"Binary representation of a:\", bin(a))\n",
    "\n",
    "print(\"Binary representation of b:\", bin(b))\n",
    "\n",
    "print(\"Bitwise-and a and b:\", np.bitwise_and(a, b))"
   ]
  },
  {
   "cell_type": "code",
   "execution_count": 5,
   "id": "2fc9094c",
   "metadata": {},
   "outputs": [
    {
     "name": "stdout",
     "output_type": "stream",
     "text": [
      "Binary representation of a: 0b110010\n",
      "Binary representation of b: 0b1011010\n",
      "Bitwise-or a and b: 122\n"
     ]
    }
   ],
   "source": [
    "import numpy as np\n",
    "\n",
    "a = 50 \n",
    "\n",
    "b = 90\n",
    "\n",
    "print(\"Binary representation of a:\", bin(a))\n",
    "\n",
    "print(\"Binary representation of b:\", bin(b))\n",
    "\n",
    "print(\"Bitwise-or a and b:\", np.bitwise_or(a, b))"
   ]
  },
  {
   "cell_type": "code",
   "execution_count": 8,
   "id": "fed5aefd",
   "metadata": {},
   "outputs": [
    {
     "name": "stdout",
     "output_type": "stream",
     "text": [
      "Binary representation: 00010100\n",
      "[235]\n",
      "binary representation: 11101011\n"
     ]
    }
   ],
   "source": [
    "import numpy as np\n",
    "\n",
    "arr = np.array([20], dtype=np.uint8)\n",
    "\n",
    "print(\"Binary representation:\", np.binary_repr(20, 8))\n",
    "\n",
    "print(np.invert(arr))\n",
    "\n",
    "print(\"binary representation:\", np.binary_repr(235, 8))"
   ]
  },
  {
   "cell_type": "code",
   "execution_count": 9,
   "id": "b6185328",
   "metadata": {},
   "outputs": [
    {
     "name": "stdout",
     "output_type": "stream",
     "text": [
      "left shift of 20 by 3 bits 160\n",
      "Binary representation of 20 in 8 bits 00010100\n",
      "Binary representation of 160 in 8 bits 10100000\n"
     ]
    }
   ],
   "source": [
    "import numpy as np\n",
    "\n",
    "print(\"left shift of 20 by 3 bits\", np.left_shift(20, 3))\n",
    "\n",
    "print(\"Binary representation of 20 in 8 bits\", np.binary_repr(20, 8))\n",
    "\n",
    "print(\"Binary representation of 160 in 8 bits\", np.binary_repr(160, 8))"
   ]
  },
  {
   "cell_type": "code",
   "execution_count": 11,
   "id": "9e64102a",
   "metadata": {},
   "outputs": [
    {
     "name": "stdout",
     "output_type": "stream",
     "text": [
      "Right shift of 20 by 3 bits 2\n",
      "Binary representation of 20 in 8 bits 00010100\n",
      "Binary representation of 160 in 8 bits 10100000\n"
     ]
    }
   ],
   "source": [
    "import numpy as np\n",
    "\n",
    "print(\"Right shift of 20 by 3 bits\", np.right_shift(20, 3))\n",
    "\n",
    "print(\"Binary representation of 20 in 8 bits\", np.binary_repr(20, 8))\n",
    "\n",
    "print(\"Binary representation of 160 in 8 bits\", np.binary_repr(160, 8))"
   ]
  },
  {
   "cell_type": "code",
   "execution_count": null,
   "id": "b857af7a",
   "metadata": {},
   "outputs": [],
   "source": []
  }
 ],
 "metadata": {
  "kernelspec": {
   "display_name": "Python 3",
   "language": "python",
   "name": "python3"
  },
  "language_info": {
   "codemirror_mode": {
    "name": "ipython",
    "version": 3
   },
   "file_extension": ".py",
   "mimetype": "text/x-python",
   "name": "python",
   "nbconvert_exporter": "python",
   "pygments_lexer": "ipython3",
   "version": "3.8.8"
  }
 },
 "nbformat": 4,
 "nbformat_minor": 5
}
